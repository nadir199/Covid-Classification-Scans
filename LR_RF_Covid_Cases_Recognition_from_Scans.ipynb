{
 "cells": [
  {
   "cell_type": "markdown",
   "metadata": {},
   "source": [
    "# Covid Scans Classification Using Simple Methods\n",
    "In this notebook we'll try to classify patients as having covid or not based on their scans. We'll use simple machine learning methods first, then switch to CNNs.\n",
    "\n",
    "Data can be downloaded here : https://drive.google.com/file/d/1WS9WiABZM_ODhN6kSRoVSOik51mU3vI7/view"
   ]
  },
  {
   "cell_type": "code",
   "execution_count": null,
   "metadata": {},
   "outputs": [],
   "source": [
    "import PIL\n",
    "from PIL import Image\n",
    "import matplotlib.pyplot as plt\n",
    "import numpy as np"
   ]
  },
  {
   "cell_type": "markdown",
   "metadata": {},
   "source": [
    "## Importing the Images using PIL"
   ]
  },
  {
   "cell_type": "code",
   "execution_count": null,
   "metadata": {},
   "outputs": [],
   "source": [
    "import glob\n",
    "image_list_covid = []\n",
    "image_list_non_covid = []\n",
    "for filename in glob.glob('covid/COVID/*'): \n",
    "    im=Image.open(filename)\n",
    "    image_list_covid.append(im)\n",
    "for filename in glob.glob('covid/non-COVID/*'): \n",
    "    im=Image.open(filename)\n",
    "    image_list_non_covid.append(im)"
   ]
  },
  {
   "cell_type": "markdown",
   "metadata": {},
   "source": [
    "## Visualize some scans"
   ]
  },
  {
   "cell_type": "markdown",
   "metadata": {},
   "source": [
    "### Covid-Positive scans"
   ]
  },
  {
   "cell_type": "code",
   "execution_count": null,
   "metadata": {},
   "outputs": [],
   "source": [
    "Nb_row = 2\n",
    "Nb_col = 3\n",
    "fig, axs = plt.subplots(Nb_row, Nb_col, figsize=(20,10))\n",
    "\n",
    "for i,ax in enumerate(axs.flatten()):\n",
    "    ax.imshow(image_list_non_covid[i])"
   ]
  },
  {
   "cell_type": "markdown",
   "metadata": {},
   "source": [
    "### Covid-Negative scans"
   ]
  },
  {
   "cell_type": "code",
   "execution_count": null,
   "metadata": {},
   "outputs": [],
   "source": [
    "fig, axs = plt.subplots(Nb_row, Nb_col, figsize=(20,10))\n",
    "\n",
    "for i,ax in enumerate(axs.flatten()):\n",
    "    ax.imshow(image_list_covid[i])"
   ]
  },
  {
   "cell_type": "markdown",
   "metadata": {},
   "source": [
    "## Preprocessing "
   ]
  },
  {
   "cell_type": "markdown",
   "metadata": {},
   "source": [
    "Here we have to :\n",
    " - First convert the images to Grayscale\n",
    " - Resize the images to a fixed size (100*100) for e.g\n",
    " - Flatten the data"
   ]
  },
  {
   "cell_type": "code",
   "execution_count": null,
   "metadata": {},
   "outputs": [],
   "source": [
    "# Convert resize and flatten\n",
    "images_numpy_covid = []\n",
    "WIDTH,HEIGHT = 100,100\n",
    "for im in image_list_covid:\n",
    "    images_numpy_covid.append(np.array(im.convert('LA').resize((WIDTH,HEIGHT)))[:,:,0].flatten())\n",
    "\n",
    "images_numpy_no_covid = []\n",
    "for im in image_list_non_covid:\n",
    "    images_numpy_no_covid.append(np.array(im.convert('LA').resize((WIDTH,HEIGHT)))[:,:,0].flatten())"
   ]
  },
  {
   "cell_type": "markdown",
   "metadata": {},
   "source": [
    "The images are now represented as 100*100 = 10000 * 1 vectors"
   ]
  },
  {
   "cell_type": "code",
   "execution_count": null,
   "metadata": {},
   "outputs": [],
   "source": [
    "images_numpy_no_covid[0].shape"
   ]
  },
  {
   "cell_type": "markdown",
   "metadata": {},
   "source": [
    "We have 1252 Covid-Positive scans and 1229 Covid-Negative scans"
   ]
  },
  {
   "cell_type": "code",
   "execution_count": null,
   "metadata": {},
   "outputs": [],
   "source": [
    "len(images_numpy_covid)"
   ]
  },
  {
   "cell_type": "code",
   "execution_count": null,
   "metadata": {},
   "outputs": [],
   "source": [
    "len(images_numpy_no_covid)"
   ]
  },
  {
   "cell_type": "markdown",
   "metadata": {},
   "source": [
    "### Generating the labels and the matrix of all images"
   ]
  },
  {
   "cell_type": "markdown",
   "metadata": {},
   "source": [
    "The first `len(images_numpy_covid)` images are in class \"1\" (Positive). And the last `len(images_numpy_no_covid)` images are in class \"0\" (Negative).\n",
    "\n",
    "We generate accordingly the labels vector `Y`"
   ]
  },
  {
   "cell_type": "code",
   "execution_count": null,
   "metadata": {},
   "outputs": [],
   "source": [
    "Y = [1] * len(images_numpy_covid)\n",
    "Y.extend([0] * len(images_numpy_no_covid)) "
   ]
  },
  {
   "cell_type": "code",
   "execution_count": null,
   "metadata": {},
   "outputs": [],
   "source": [
    "Y = np.array(Y)"
   ]
  },
  {
   "cell_type": "markdown",
   "metadata": {},
   "source": [
    "Then we create the matrix of all image vectors by concatenating the two lists :"
   ]
  },
  {
   "cell_type": "code",
   "execution_count": null,
   "metadata": {},
   "outputs": [],
   "source": [
    "X = images_numpy_covid + images_numpy_no_covid"
   ]
  },
  {
   "cell_type": "markdown",
   "metadata": {},
   "source": [
    "## Training the Model"
   ]
  },
  {
   "cell_type": "code",
   "execution_count": null,
   "metadata": {},
   "outputs": [],
   "source": [
    "from sklearn.metrics import f1_score, accuracy_score, classification_report, confusion_matrix, ConfusionMatrixDisplay"
   ]
  },
  {
   "cell_type": "markdown",
   "metadata": {},
   "source": [
    "First of all, we split our data into 70% Training and 30% Testing, and  then we'll try a bunch of very simple models before diving into more sophisticated ones :"
   ]
  },
  {
   "cell_type": "code",
   "execution_count": null,
   "metadata": {},
   "outputs": [],
   "source": [
    "from sklearn.model_selection import train_test_split\n",
    "X_train, X_test, Y_train, Y_test = train_test_split(X, Y, test_size=0.3)"
   ]
  },
  {
   "cell_type": "markdown",
   "metadata": {},
   "source": [
    "### Logistic Regression"
   ]
  },
  {
   "cell_type": "code",
   "execution_count": null,
   "metadata": {},
   "outputs": [],
   "source": [
    "import warnings\n",
    "warnings.filterwarnings('ignore')"
   ]
  },
  {
   "cell_type": "code",
   "execution_count": null,
   "metadata": {},
   "outputs": [],
   "source": [
    "from sklearn.linear_model import LogisticRegression"
   ]
  },
  {
   "cell_type": "code",
   "execution_count": null,
   "metadata": {},
   "outputs": [],
   "source": [
    "cl = LogisticRegression()"
   ]
  },
  {
   "cell_type": "code",
   "execution_count": null,
   "metadata": {},
   "outputs": [],
   "source": [
    "cl.fit(X_train, Y_train)"
   ]
  },
  {
   "cell_type": "code",
   "execution_count": null,
   "metadata": {},
   "outputs": [],
   "source": [
    "Y_pred = cl.predict(X_test)\n",
    "print(\"Accuracy : {}\".format(accuracy_score(Y_test, Y_pred)))\n",
    "print(\"F1-Score : {}\".format(f1_score(Y_test, Y_pred)))\n",
    "print(\"Classification Report : \")\n",
    "print(classification_report(Y_test, Y_pred))\n",
    "print(\"Confusion Matrix\")\n",
    "conf_mat = confusion_matrix(Y_test, Y_pred, labels=cl.classes_)\n",
    "disp = ConfusionMatrixDisplay(confusion_matrix=conf_mat, display_labels=[\"Covid-Negative\", \"Covid-Positive\"])\n",
    "disp.plot();"
   ]
  },
  {
   "cell_type": "markdown",
   "metadata": {},
   "source": [
    "Say that **classifying someone as negative when he is in fact positive** is worse than **classifying someone as positive when he is in fact negative**.\n",
    "\n",
    "In this case it's okay if we have some false positives but we just don't want to miss positive cases. Because these could lead to death...\n",
    "\n",
    "To consider this kind of decision rule, we need to set a different threshold for deciding the classes. \n",
    "\n"
   ]
  },
  {
   "cell_type": "code",
   "execution_count": null,
   "metadata": {},
   "outputs": [],
   "source": [
    "Y_pred_probas = cl.predict_proba(X_test)\n",
    "Y_pred_probas = Y_pred_probas[:,1]\n",
    "DECISION_THRESHOLD = 0.2\n",
    "Y_pred2 = (Y_pred_probas > DECISION_THRESHOLD).astype(int)"
   ]
  },
  {
   "cell_type": "code",
   "execution_count": null,
   "metadata": {},
   "outputs": [],
   "source": [
    "print(\"Accuracy : {}\".format(accuracy_score(Y_test, Y_pred2)))\n",
    "print(\"F1-Score : {}\".format(f1_score(Y_test, Y_pred2)))\n",
    "print(\"Classification Report : \")\n",
    "print(classification_report(Y_test, Y_pred2))\n",
    "print(\"Confusion Matrix\")\n",
    "conf_mat = confusion_matrix(Y_test, Y_pred2, labels=cl.classes_)\n",
    "disp = ConfusionMatrixDisplay(confusion_matrix=conf_mat, display_labels=[\"Covid-Negative\", \"Covid-Positive\"])\n",
    "disp.plot();"
   ]
  },
  {
   "cell_type": "markdown",
   "metadata": {},
   "source": [
    "By setting the threshold to 0.2, we can see in the confusion matrix that we are detecting more true positive cases, we went from 297 to 302 true positive cases.\n",
    "\n",
    "But this comes with a higher false positive rate, as we can see that we went from 73 to 79 false positives.\n",
    "\n",
    "This threshold can be set according to what the specialists want."
   ]
  },
  {
   "cell_type": "markdown",
   "metadata": {},
   "source": [
    "### Random Forest"
   ]
  },
  {
   "cell_type": "code",
   "execution_count": null,
   "metadata": {},
   "outputs": [],
   "source": [
    "from sklearn.ensemble import RandomForestClassifier\n",
    "rf = RandomForestClassifier()\n",
    "rf.fit(X_train, Y_train)"
   ]
  },
  {
   "cell_type": "code",
   "execution_count": null,
   "metadata": {},
   "outputs": [],
   "source": [
    "Y_pred = rf.predict(X_test)\n",
    "print(\"Accuracy : {}\".format(accuracy_score(Y_test, Y_pred)))\n",
    "print(\"F1-Score : {}\".format(f1_score(Y_test, Y_pred)))\n",
    "print(\"Classification Report : \")\n",
    "print(classification_report(Y_test, Y_pred))\n",
    "print(\"Confusion Matrix\")\n",
    "conf_mat = confusion_matrix(Y_test, Y_pred, labels=rf.classes_)\n",
    "disp = ConfusionMatrixDisplay(confusion_matrix=conf_mat, display_labels=[\"Covid-Negative\", \"Covid-Positive\"])\n",
    "disp.plot();"
   ]
  },
  {
   "cell_type": "markdown",
   "metadata": {},
   "source": [
    "We can do the same thing as with Logistic Regression, and use a threshold to decide : "
   ]
  },
  {
   "cell_type": "code",
   "execution_count": null,
   "metadata": {},
   "outputs": [],
   "source": [
    "Y_pred_probas = rf.predict_proba(X_test)\n",
    "Y_pred_probas = Y_pred_probas[:,1]\n",
    "DECISION_THRESHOLD = 0.4\n",
    "Y_pred2 = (Y_pred_probas > DECISION_THRESHOLD).astype(int)"
   ]
  },
  {
   "cell_type": "code",
   "execution_count": null,
   "metadata": {},
   "outputs": [],
   "source": [
    "print(\"Accuracy : {}\".format(accuracy_score(Y_test, Y_pred2)))\n",
    "print(\"F1-Score : {}\".format(f1_score(Y_test, Y_pred2)))\n",
    "print(\"Classification Report : \")\n",
    "print(classification_report(Y_test, Y_pred2))\n",
    "print(\"Confusion Matrix\")\n",
    "conf_mat = confusion_matrix(Y_test, Y_pred2, labels=rf.classes_)\n",
    "disp = ConfusionMatrixDisplay(confusion_matrix=conf_mat, display_labels=[\"Covid-Negative\", \"Covid-Positive\"])\n",
    "disp.plot();"
   ]
  },
  {
   "cell_type": "markdown",
   "metadata": {},
   "source": [
    "We can see here that we get far less false negative than without setting a threshold (0.5 by default)"
   ]
  },
  {
   "cell_type": "markdown",
   "metadata": {},
   "source": [
    "We can see after this brief analysis that Random Forests performs better on this data, because of its ability to learn non-linear relationships.\n",
    "\n",
    "We have also seen how simple methods can be used to classify images. Although, these methods do not take into consideration the spatial aspect of the image, and an important part is thus lost.\n",
    "- To fix this problem, we need to use methods that consider the spatial correlations of the data. Such as Convolutional Neural Networks, or SKDA (Spatial Kernel Discriminant Analysis)"
   ]
  }
 ],
 "metadata": {
  "kernelspec": {
   "display_name": "Python 3",
   "language": "python",
   "name": "python3"
  },
  "language_info": {
   "codemirror_mode": {
    "name": "ipython",
    "version": 3
   },
   "file_extension": ".py",
   "mimetype": "text/x-python",
   "name": "python",
   "nbconvert_exporter": "python",
   "pygments_lexer": "ipython3",
   "version": "3.8.8"
  }
 },
 "nbformat": 4,
 "nbformat_minor": 2
}
